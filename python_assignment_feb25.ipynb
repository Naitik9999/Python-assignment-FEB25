{
  "nbformat": 4,
  "nbformat_minor": 0,
  "metadata": {
    "colab": {
      "provenance": []
    },
    "kernelspec": {
      "name": "python3",
      "display_name": "Python 3"
    },
    "language_info": {
      "name": "python"
    }
  },
  "cells": [
    {
      "cell_type": "markdown",
      "source": [
        "##1. Write a Python program to print \"Hello, World!_"
      ],
      "metadata": {
        "id": "fRO44oETsgw-"
      }
    },
    {
      "cell_type": "code",
      "execution_count": null,
      "metadata": {
        "colab": {
          "base_uri": "https://localhost:8080/"
        },
        "id": "ic7A9JldsS3C",
        "outputId": "68f754d6-80e0-4158-cf47-c0dd2fc34f89"
      },
      "outputs": [
        {
          "output_type": "stream",
          "name": "stdout",
          "text": [
            "Hello world\n"
          ]
        }
      ],
      "source": [
        "print('Hello world' )"
      ]
    },
    {
      "cell_type": "markdown",
      "source": [
        "##2. Write a Python program that displays your name and age."
      ],
      "metadata": {
        "id": "k0ZqN2x3s7J_"
      }
    },
    {
      "cell_type": "code",
      "source": [
        "name = 'naitik mandani'\n",
        "age = 25\n",
        "print(f'my name is {name} and my age is {age}')"
      ],
      "metadata": {
        "colab": {
          "base_uri": "https://localhost:8080/"
        },
        "id": "Zj_TqptcschQ",
        "outputId": "34f994e2-b850-41df-9715-51a373827d1b"
      },
      "execution_count": null,
      "outputs": [
        {
          "output_type": "stream",
          "name": "stdout",
          "text": [
            "my name is naitik mandani and my age is 25\n"
          ]
        }
      ]
    },
    {
      "cell_type": "markdown",
      "source": [
        "##3. Write code to print all the pre-defined keywords in Python using the keyword library."
      ],
      "metadata": {
        "id": "RVPY056AtPsi"
      }
    },
    {
      "cell_type": "code",
      "source": [
        "import keyword\n",
        "print(keyword.kwlist)"
      ],
      "metadata": {
        "colab": {
          "base_uri": "https://localhost:8080/"
        },
        "id": "ul69tWVrtMiX",
        "outputId": "819bf723-fb17-4c43-be80-e38f3fc8a8ba"
      },
      "execution_count": null,
      "outputs": [
        {
          "output_type": "stream",
          "name": "stdout",
          "text": [
            "['False', 'None', 'True', 'and', 'as', 'assert', 'async', 'await', 'break', 'class', 'continue', 'def', 'del', 'elif', 'else', 'except', 'finally', 'for', 'from', 'global', 'if', 'import', 'in', 'is', 'lambda', 'nonlocal', 'not', 'or', 'pass', 'raise', 'return', 'try', 'while', 'with', 'yield']\n"
          ]
        }
      ]
    },
    {
      "cell_type": "markdown",
      "source": [
        "##4.Write a program that checks if a given word is a Python keyword."
      ],
      "metadata": {
        "id": "UuOjvPHutn3t"
      }
    },
    {
      "cell_type": "code",
      "source": [
        "import keyword\n",
        "word = input('Enter a word')\n",
        "if keyword.iskeyword(word):\n",
        "  print(f\"{word} is a python keyword.\")\n",
        "else:\n",
        "  print(f\"{word} is not a python keyword\")"
      ],
      "metadata": {
        "colab": {
          "base_uri": "https://localhost:8080/"
        },
        "id": "sqeLaObkthGa",
        "outputId": "6b14f979-939d-47b0-b410-9697281a0cae"
      },
      "execution_count": null,
      "outputs": [
        {
          "output_type": "stream",
          "name": "stdout",
          "text": [
            "Enter a word print\n",
            " print is not a python keyword\n"
          ]
        }
      ]
    },
    {
      "cell_type": "markdown",
      "source": [
        "## 5. Create a list and tuple in Python, and demonstrate how attempting to change an element works differently for each.\n"
      ],
      "metadata": {
        "id": "MFctyrcCu3wv"
      }
    },
    {
      "cell_type": "code",
      "source": [
        "lis = [1, 2, 3]\n",
        "tup = (1, 2, 30)\n",
        "\n",
        "#for list\n",
        "lis[1] = 600\n",
        "print(lis)\n",
        "\n",
        "#for tuple\n",
        "try:\n",
        "  tup[2] = 25\n",
        "except TypeError as e:\n",
        "  print(\"Error:\", e)"
      ],
      "metadata": {
        "colab": {
          "base_uri": "https://localhost:8080/"
        },
        "id": "7KgAAFkBuiIP",
        "outputId": "e8b2ba15-e8eb-44bf-ec4e-8a1cae6f0bcd"
      },
      "execution_count": null,
      "outputs": [
        {
          "output_type": "stream",
          "name": "stdout",
          "text": [
            "[1, 600, 3]\n",
            "Error: 'tuple' object does not support item assignment\n"
          ]
        }
      ]
    },
    {
      "cell_type": "markdown",
      "source": [
        "##6.Write a function to demonstrate the behavior of mutable and immutable arguments0"
      ],
      "metadata": {
        "id": "QhaboyP1wrGd"
      }
    },
    {
      "cell_type": "code",
      "source": [
        "def modify_list(lst):\n",
        "    lst.append(4)\n",
        "\n",
        "def modify_string(s):\n",
        "    s += \"world\"\n",
        "\n",
        "my_list = [1, 2, 3]\n",
        "my_string = \"hello\"\n",
        "\n",
        "modify_list(my_list)\n",
        "print(\"Modified list:\", my_list)\n",
        "\n",
        "modify_string(my_string)\n",
        "print(\"String after function call:\", my_string)"
      ],
      "metadata": {
        "colab": {
          "base_uri": "https://localhost:8080/"
        },
        "id": "b4Ow67sLv9k7",
        "outputId": "d7f4b156-a144-49e3-887f-cc5cf763dbc0"
      },
      "execution_count": null,
      "outputs": [
        {
          "output_type": "stream",
          "name": "stdout",
          "text": [
            "Modified list: [1, 2, 3, 4]\n",
            "String after function call: hello\n"
          ]
        }
      ]
    },
    {
      "cell_type": "markdown",
      "source": [
        "Question 6 & 7 are same"
      ],
      "metadata": {
        "id": "bfBbKF4Y0fzL"
      }
    },
    {
      "cell_type": "markdown",
      "source": [
        "### 8. Write a program to demonstrate the use of logical operators."
      ],
      "metadata": {
        "id": "o0oAyw-l0Wxa"
      }
    },
    {
      "cell_type": "code",
      "source": [
        "x = True\n",
        "y = False\n",
        "\n",
        "x = True\n",
        "y = False\n",
        "\n",
        "print(\"x and y:\", x and y)\n",
        "print(\"x or y:\", x or y)\n",
        "print(\"not x:\", not x)"
      ],
      "metadata": {
        "colab": {
          "base_uri": "https://localhost:8080/"
        },
        "id": "oFbs_PZ5wbOy",
        "outputId": "b7e5b9e9-aa88-480a-a238-213d9b9d924c"
      },
      "execution_count": null,
      "outputs": [
        {
          "output_type": "stream",
          "name": "stdout",
          "text": [
            "x and y: False\n",
            "x or y: True\n",
            "not x: False\n"
          ]
        }
      ]
    },
    {
      "cell_type": "markdown",
      "source": [
        "##9. Write a Python program to convert user input from string to integer, float, and boolean types."
      ],
      "metadata": {
        "id": "Cs_s5NFx1_bg"
      }
    },
    {
      "cell_type": "code",
      "source": [
        "user_input = input(\"enter a number:\")\n",
        "\n",
        "int_val = int(user_input)\n",
        "float_val = float(user_input)\n",
        "bool_val = bool(user_input)\n",
        "\n",
        "print(\"Integer:\", int_val)\n",
        "print(\"float:\", float_val)\n",
        "print(\"boolean:\", bool_val)"
      ],
      "metadata": {
        "colab": {
          "base_uri": "https://localhost:8080/"
        },
        "id": "8qa3hQU91_CR",
        "outputId": "3a9b8f38-f447-4efd-b631-60ceb8088ef6"
      },
      "execution_count": null,
      "outputs": [
        {
          "output_type": "stream",
          "name": "stdout",
          "text": [
            "enter a number:5\n",
            "Integer: 5\n",
            "float: 5.0\n",
            "boolean: True\n"
          ]
        }
      ]
    },
    {
      "cell_type": "markdown",
      "source": [
        "##10.Write code to demonstrate type casting with list elements0\n"
      ],
      "metadata": {
        "id": "gfpx53LM3YTM"
      }
    },
    {
      "cell_type": "code",
      "source": [
        "str_list = [\"1\", \"2\", \"3\", ]\n",
        "int_list = list(map(int, str_list))\n",
        "print(\"List of integer:\", int_list)"
      ],
      "metadata": {
        "colab": {
          "base_uri": "https://localhost:8080/"
        },
        "id": "7ho6OUb12Udy",
        "outputId": "8fab6119-af58-4e95-be5e-22415e865e0b"
      },
      "execution_count": null,
      "outputs": [
        {
          "output_type": "stream",
          "name": "stdout",
          "text": [
            "List of integer: [1, 2, 3]\n"
          ]
        }
      ]
    },
    {
      "cell_type": "markdown",
      "source": [
        "##11.Write a program that checks if a number is positive, negative, or zero."
      ],
      "metadata": {
        "id": "VOuR44xf32kG"
      }
    },
    {
      "cell_type": "code",
      "source": [
        "a= 0\n",
        "\n",
        "if a>0:\n",
        "  print(\"positive\")\n",
        "elif a < 0:\n",
        "  print(\"negative\")\n",
        "else:\n",
        "  print(\"zero\")\n"
      ],
      "metadata": {
        "colab": {
          "base_uri": "https://localhost:8080/"
        },
        "id": "deUwzXZD31lw",
        "outputId": "abe33927-ebba-4069-e48c-667fa4c95bd5"
      },
      "execution_count": null,
      "outputs": [
        {
          "output_type": "stream",
          "name": "stdout",
          "text": [
            "zero\n"
          ]
        }
      ]
    },
    {
      "cell_type": "markdown",
      "source": [
        "##12.Write a for loop to print numbers from 1 to 100."
      ],
      "metadata": {
        "id": "bqk7s14t-hri"
      }
    },
    {
      "cell_type": "markdown",
      "source": [],
      "metadata": {
        "id": "gLve-qGv-hRK"
      }
    },
    {
      "cell_type": "code",
      "source": [
        "for i in range(1,11):\n",
        "  print(i)\n"
      ],
      "metadata": {
        "colab": {
          "base_uri": "https://localhost:8080/"
        },
        "id": "32mOZ8L995j8",
        "outputId": "703f5a36-e5a3-49d2-be40-b29d54b2858d"
      },
      "execution_count": null,
      "outputs": [
        {
          "output_type": "stream",
          "name": "stdout",
          "text": [
            "1\n",
            "2\n",
            "3\n",
            "4\n",
            "5\n",
            "6\n",
            "7\n",
            "8\n",
            "9\n",
            "10\n"
          ]
        }
      ]
    },
    {
      "cell_type": "markdown",
      "source": [],
      "metadata": {
        "id": "DHZrjCZx_BFW"
      }
    },
    {
      "cell_type": "markdown",
      "source": [
        "##13.Write a Python program to find the sum of all even numbers between 1 and 50."
      ],
      "metadata": {
        "id": "YyDktNHy_FH8"
      }
    },
    {
      "cell_type": "code",
      "source": [
        "sum=0\n",
        "for i in range(1, 51):\n",
        "  if i % 2 == 0:\n",
        "    sum=sum+i\n",
        "print(sum)\n"
      ],
      "metadata": {
        "colab": {
          "base_uri": "https://localhost:8080/"
        },
        "id": "ppfauc2f_B4J",
        "outputId": "2d410691-1a17-481c-91fc-992860c3aa9c"
      },
      "execution_count": null,
      "outputs": [
        {
          "output_type": "stream",
          "name": "stdout",
          "text": [
            "650\n"
          ]
        }
      ]
    },
    {
      "cell_type": "markdown",
      "source": [
        "##14 Write a program to reverse a string using a while loop."
      ],
      "metadata": {
        "id": "UrgVVYxsBGpY"
      }
    },
    {
      "cell_type": "code",
      "source": [
        "a = \"naitik\"\n",
        "for i in range(len(a)-1,-1,-1):\n",
        "  print(a[i])"
      ],
      "metadata": {
        "id": "nIfl03BUBimA",
        "outputId": "931aadaf-5849-43ca-b42e-176a0704bc8d",
        "colab": {
          "base_uri": "https://localhost:8080/"
        }
      },
      "execution_count": null,
      "outputs": [
        {
          "output_type": "stream",
          "name": "stdout",
          "text": [
            "k\n",
            "i\n",
            "t\n",
            "i\n",
            "a\n",
            "n\n"
          ]
        }
      ]
    },
    {
      "cell_type": "markdown",
      "source": [
        "##15.Write a Python program to calculate the factorial of a number provided by the user using a while loop.\n"
      ],
      "metadata": {
        "id": "KruXGw3UD-t9"
      }
    },
    {
      "cell_type": "code",
      "source": [
        "# Get input from the user\n",
        "num = int(input(\"Enter a number to calculate its factorial: \"))\n",
        "\n",
        "# Initialize variables\n",
        "factorial = 1\n",
        "i = 1\n",
        "\n",
        "# Calculate factorial using a while loop\n",
        "while i <= num:\n",
        "    factorial *= i\n",
        "    i += 1\n",
        "\n",
        "print(f\"The factorial of {num} is: {factorial}\")"
      ],
      "metadata": {
        "id": "HnInE336DOoR",
        "outputId": "18dc354b-7a72-4e45-ec28-e2610df0d8a9",
        "colab": {
          "base_uri": "https://localhost:8080/"
        }
      },
      "execution_count": null,
      "outputs": [
        {
          "output_type": "stream",
          "name": "stdout",
          "text": [
            "Enter a number to calculate its factorial: 4\n",
            "The factorial of 4 is: 24\n"
          ]
        }
      ]
    },
    {
      "cell_type": "code",
      "source": [],
      "metadata": {
        "id": "VL_5y-MEFTr9"
      },
      "execution_count": null,
      "outputs": []
    }
  ]
}